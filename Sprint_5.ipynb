{
 "cells": [
  {
   "cell_type": "markdown",
   "metadata": {},
   "source": [
    "# Sprint 5"
   ]
  },
  {
   "cell_type": "markdown",
   "metadata": {},
   "source": [
    "## Problem 1, 2, 3 and 4"
   ]
  },
  {
   "cell_type": "code",
   "execution_count": 4,
   "metadata": {},
   "outputs": [],
   "source": [
    "import numpy as np\n",
    "from numpy.random import *\n",
    "import random"
   ]
  },
  {
   "cell_type": "code",
   "execution_count": 11,
   "metadata": {},
   "outputs": [],
   "source": [
    "class ScratchSVMClassifier():\n",
    "\n",
    "    def __init__(self, num_iter, lr, bias, Threshold): \n",
    "        self.iter = num_iter\n",
    "        self.lr = lr\n",
    "        self.bias = bias\n",
    "        self.Threshold = Threshold\n",
    "           \n",
    "    def _SVC_hypothesis(self, X, y):\n",
    "        y = y.reshape(-1,1)\n",
    "\n",
    "        for i in range(y.shape[0]):\n",
    "            temp = 0\n",
    "            for j in range(y.shape[1]):\n",
    "                temp += self.lambda_[j] * y[i] * y[j] * np.dot(X[i].T, X[j])\n",
    "            self.lambda_[i] += self.lr * (1 - temp)\n",
    "            self.lambda_[self.lambda_ <= 0] = 0\n",
    "        return self.lambda_\n",
    "    \n",
    "    def fit(self, X, y, X_val=None, y_val=None):\n",
    "        np.random.seed(0)\n",
    "        self.lambda_ = np.random.rand(X.shape[0], 1) * 0.03\n",
    "        \n",
    "        for i in range(self.iter):\n",
    "            self._SVC_hypothesis(X, y)\n",
    "        \n",
    "        self.index_l = []\n",
    "        for j, i in enumerate(self.lambda_):\n",
    "            if i > self.Threshold:\n",
    "                self.index_l .append(j)\n",
    "        self.lambda_sv = self.lambda_[self.index_l]\n",
    "        self.X_sv = X[self.index_l]\n",
    "        self.y_sv = y[self.index_l]\n",
    "    \n",
    "    def predict(self, X):\n",
    "        self.y_pred = 0\n",
    "        for i in range(self.lambda_sv.shape[0]):\n",
    "             self.y_pred += self.lambda_sv[i] * self.y_sv[i] * np.dot(X, self.X_sv[i].T)  \n",
    "        self.y_pred = np.where(self.y_pred > 0, 1, -1)       \n",
    "        return self.y_pred"
   ]
  },
  {
   "cell_type": "code",
   "execution_count": 14,
   "metadata": {},
   "outputs": [],
   "source": [
    "import pandas as pd\n",
    "from sklearn.datasets import load_iris\n",
    "from sklearn.neighbors import KNeighborsClassifier\n",
    "from sklearn.metrics import confusion_matrix\n",
    "from sklearn.metrics import precision_score\n",
    "from sklearn.metrics import recall_score\n",
    "from sklearn.metrics import f1_score\n",
    "from sklearn.model_selection import train_test_split\n",
    "\n",
    "iris = load_iris()\n",
    "X = iris.data[50:,:]\n",
    "y = iris.target[50:]\n",
    "X = X[:,[2,3]]\n",
    "y[y==2] = -1"
   ]
  },
  {
   "cell_type": "code",
   "execution_count": 17,
   "metadata": {},
   "outputs": [],
   "source": [
    "(X_train, X_test, y_train, y_test) = train_test_split(X, y, test_size=0.3, random_state=0)"
   ]
  },
  {
   "cell_type": "code",
   "execution_count": 18,
   "metadata": {},
   "outputs": [],
   "source": [
    "SV = ScratchSVMClassifier(num_iter=1000, lr = 0.00000001, bias=True, Threshold=0.002)\n",
    "SV.fit(X,y)"
   ]
  },
  {
   "cell_type": "code",
   "execution_count": 19,
   "metadata": {},
   "outputs": [
    {
     "data": {
      "text/plain": [
       "array([[0.01647044],\n",
       "       [0.02146185],\n",
       "       [0.01808876],\n",
       "       [0.0163531 ],\n",
       "       [0.01271574],\n",
       "       [0.01938304],\n",
       "       [0.01313361],\n",
       "       [0.02676041],\n",
       "       [0.02891602],\n",
       "       [0.0115099 ],\n",
       "       [0.02375881],\n",
       "       [0.01587325],\n",
       "       [0.01704801],\n",
       "       [0.02777394],\n",
       "       [0.002138  ],\n",
       "       [0.00262015],\n",
       "       [0.00061272],\n",
       "       [0.02498519],\n",
       "       [0.02335087],\n",
       "       [0.02610709],\n",
       "       [0.02936442],\n",
       "       [0.02398136],\n",
       "       [0.01385024],\n",
       "       [0.02342196],\n",
       "       [0.00355461],\n",
       "       [0.0192039 ],\n",
       "       [0.00430656],\n",
       "       [0.02834581],\n",
       "       [0.01566162],\n",
       "       [0.01244692],\n",
       "       [0.00794347],\n",
       "       [0.02323392],\n",
       "       [0.01369121],\n",
       "       [0.0170587 ],\n",
       "       [0.00056987],\n",
       "       [0.01853521],\n",
       "       [0.01836889],\n",
       "       [0.01851431],\n",
       "       [0.02831897],\n",
       "       [0.02046121],\n",
       "       [0.01079155],\n",
       "       [0.01311708],\n",
       "       [0.02093556],\n",
       "       [0.00181398],\n",
       "       [0.02000945],\n",
       "       [0.02012561],\n",
       "       [0.00631793],\n",
       "       [0.00387416],\n",
       "       [0.00947028],\n",
       "       [0.01091785],\n",
       "       [0.01712112],\n",
       "       [0.01317243],\n",
       "       [0.02966627],\n",
       "       [0.00307609],\n",
       "       [0.0062813 ],\n",
       "       [0.00485488],\n",
       "       [0.01960712],\n",
       "       [0.00761404],\n",
       "       [0.01400423],\n",
       "       [0.00734807],\n",
       "       [0.0047835 ],\n",
       "       [0.00332579],\n",
       "       [0.01970463],\n",
       "       [0.00415982],\n",
       "       [0.00591197],\n",
       "       [0.01107639],\n",
       "       [0.02464447],\n",
       "       [0.00292873],\n",
       "       [0.02515422],\n",
       "       [0.00289717],\n",
       "       [0.02930873],\n",
       "       [0.01407379],\n",
       "       [0.02931848],\n",
       "       [0.01815957],\n",
       "       [0.0221928 ],\n",
       "       [0.00119069],\n",
       "       [0.00849834],\n",
       "       [0.0036201 ],\n",
       "       [0.00889902],\n",
       "       [0.00357669],\n",
       "       [0.00955465],\n",
       "       [0.0124433 ],\n",
       "       [0.00193927],\n",
       "       [0.02078846],\n",
       "       [0.0170127 ],\n",
       "       [0.00797694],\n",
       "       [0.01571233],\n",
       "       [0.00283289],\n",
       "       [0.01729252],\n",
       "       [0.02789355],\n",
       "       [0.00957196],\n",
       "       [0.02003679],\n",
       "       [0.00396832],\n",
       "       [0.02150491],\n",
       "       [0.00869717],\n",
       "       [0.0055103 ],\n",
       "       [0.0176097 ],\n",
       "       [0.00061771],\n",
       "       [0.02488291],\n",
       "       [0.00015523]])"
      ]
     },
     "execution_count": 19,
     "metadata": {},
     "output_type": "execute_result"
    }
   ],
   "source": [
    "SV.lambda_"
   ]
  },
  {
   "cell_type": "code",
   "execution_count": 21,
   "metadata": {},
   "outputs": [
    {
     "data": {
      "text/plain": [
       "array([-1, -1, -1, -1, -1, -1, -1, -1, -1, -1, -1, -1,  1, -1, -1, -1, -1,\n",
       "        1, -1, -1, -1, -1, -1,  1, -1, -1, -1, -1, -1, -1, -1,  1, -1, -1,\n",
       "       -1, -1, -1, -1, -1, -1,  1, -1, -1, -1, -1, -1, -1, -1, -1, -1, -1,\n",
       "       -1, -1, -1, -1, -1, -1, -1, -1, -1, -1, -1, -1, -1, -1, -1, -1, -1,\n",
       "       -1, -1, -1, -1, -1, -1, -1, -1, -1, -1, -1,  1, -1, -1, -1, -1,  1,\n",
       "       -1, -1, -1, -1, -1, -1, -1, -1, -1, -1, -1, -1, -1, -1, -1])"
      ]
     },
     "execution_count": 21,
     "metadata": {},
     "output_type": "execute_result"
    }
   ],
   "source": [
    "y_pred = SV.predict(X)\n",
    "y_pred"
   ]
  },
  {
   "cell_type": "code",
   "execution_count": 22,
   "metadata": {},
   "outputs": [],
   "source": [
    "SV = ScratchSVMClassifier(num_iter=5000, lr = 0.00001, bias=True, Threshold=0.002)\n",
    "SV.fit(X_train,y_train)\n",
    "y_pred = SV.predict(X_test)"
   ]
  },
  {
   "cell_type": "code",
   "execution_count": 23,
   "metadata": {},
   "outputs": [
    {
     "name": "stdout",
     "output_type": "stream",
     "text": [
      "0.5\n",
      "1.0\n",
      "0.6666666666666666\n",
      "[[ 0 15]\n",
      " [ 0 15]]\n"
     ]
    }
   ],
   "source": [
    "print(\"{}\".format(precision_score(y_test,y_pred)))\n",
    "print(\"{}\".format(recall_score(y_test,y_pred)))\n",
    "print(\"{}\".format(f1_score(y_test,y_pred)))\n",
    "print(confusion_matrix(y_test, y_pred))"
   ]
  },
  {
   "cell_type": "markdown",
   "metadata": {},
   "source": [
    "## Problem 5"
   ]
  },
  {
   "cell_type": "markdown",
   "metadata": {},
   "source": [
    "Let's visualize the decision are"
   ]
  },
  {
   "cell_type": "code",
   "execution_count": 27,
   "metadata": {},
   "outputs": [],
   "source": [
    "import matplotlib.pyplot as plt\n",
    "from matplotlib.colors import ListedColormap\n",
    "import matplotlib.patches as mpatches\n",
    "\n",
    "def decision_region(X, y, model, step=0.01, title='decision region', xlabel='xlabel', ylabel='ylabel', target_names=['setosa','versicolor']):\n",
    "\n",
    "    # setting\n",
    "    scatter_color = ['red', 'blue']\n",
    "    contourf_color = ['pink', 'skyblue']\n",
    "    n_class = 2\n",
    "    marker = [\"o\", \"^\"]\n",
    "\n",
    "    # pred\n",
    "    mesh_f0, mesh_f1  = np.meshgrid(np.arange(np.min(X[:,0])-0.5, np.max(X[:,0])+0.5, step), np.arange(np.min(X[:,1])-0.5, np.max(X[:,1])+0.5, step))\n",
    "    mesh = np.c_[np.ravel(mesh_f0),np.ravel(mesh_f1)]\n",
    "    y_pred = model.predict(mesh).reshape(mesh_f0.shape)\n",
    "    \n",
    "    # plot\n",
    "    plt.title(title)\n",
    "    plt.xlabel(xlabel)\n",
    "    plt.ylabel(ylabel)\n",
    "    plt.contourf(mesh_f0, mesh_f1, y_pred, n_class-1, cmap=ListedColormap(contourf_color))\n",
    "    plt.contour(mesh_f0, mesh_f1, y_pred, n_class-1, colors='y', linewidths=3, alpha=0.5)\n",
    "    for i, target in enumerate(set(y)):\n",
    "        plt.scatter(X[y==target][:, 0], X[y==target][:, 1], s=80, color=scatter_color[i], label=target_names[i], marker=marker[i])\n",
    "    patches = [mpatches.Patch(color=scatter_color[i], label=target_names[i]) for i in range(n_class)]\n",
    "    plt.scatter(model.X_sv[: , 0], model.X_sv[:,1] , color = \"Yellow\")\n",
    "    plt.legend(handles=patches)\n",
    "    plt.legend()\n",
    "    plt.show()"
   ]
  },
  {
   "cell_type": "code",
   "execution_count": 28,
   "metadata": {
    "scrolled": true
   },
   "outputs": [
    {
     "name": "stderr",
     "output_type": "stream",
     "text": [
      "/Users/diopmouhamed/.pyenv/versions/anaconda3-2019.10/lib/python3.7/site-packages/ipykernel_launcher.py:23: UserWarning: No contour levels were found within the data range.\n"
     ]
    },
    {
     "data": {
      "image/png": "[encoded data removed]",
      "text/plain": [
       "<Figure size 432x288 with 1 Axes>"
      ]
     },
     "metadata": {
      "needs_background": "light"
     },
     "output_type": "display_data"
    }
   ],
   "source": [
    "decision_region(X, y, SV, step=0.01, title='ScratchLogisticRegression', xlabel='xlabel', ylabel='ylabel', target_names=[\"Virginica\" ,'versicolor'])"
   ]
  },
  {
   "cell_type": "code",
   "execution_count": 37,
   "metadata": {},
   "outputs": [],
   "source": [
    "import numpy as np\n",
    "\n",
    "np.random.seed(seed=0)\n",
    "n_samples = 500\n",
    "f0= [-1, 2]\n",
    "f1 = [2, -1]\n",
    "cov = [[1.0,0.8], [0.8, 1.0]]\n",
    "\n",
    "f0 = np.random.multivariate_normal(f0, cov, int(n_samples/2))\n",
    "f1 = np.random.multivariate_normal(f1, cov, int(n_samples/2))\n",
    "\n",
    "X = np.concatenate((f0, f1))\n",
    "y = np.concatenate((np.ones((int(n_samples/2))), np.ones((int(n_samples/2))) *(-1))).astype(np.int)\n",
    "\n",
    "random_index = np.random.permutation(np.arange(n_samples))\n",
    "X = X[random_index]\n",
    "y = y[random_index]"
   ]
  },
  {
   "cell_type": "code",
   "execution_count": 41,
   "metadata": {},
   "outputs": [],
   "source": [
    "SV = ScratchSVMClassifier(num_iter=10000, lr = 0.000001, bias=True, Threshold=0.038)\n",
    "SV.fit(X,y)"
   ]
  },
  {
   "cell_type": "code",
   "execution_count": 44,
   "metadata": {},
   "outputs": [
    {
     "data": {
      "image/png": "[encoded data removed]",
      "text/plain": [
       "<Figure size 432x288 with 1 Axes>"
      ]
     },
     "metadata": {
      "needs_background": "light"
     },
     "output_type": "display_data"
    }
   ],
   "source": [
    "decision_region(X, y, SV, step=0.01, title='ScratchLogisticRegression', xlabel='xlabel', ylabel='ylabel', target_names=[\"A\" ,'B'])"
   ]
  }
 ],
 "metadata": {
  "kernelspec": {
   "display_name": "Python 3",
   "language": "python",
   "name": "python3"
  },
  "language_info": {
   "codemirror_mode": {
    "name": "ipython",
    "version": 3
   },
   "file_extension": ".py",
   "mimetype": "text/x-python",
   "name": "python",
   "nbconvert_exporter": "python",
   "pygments_lexer": "ipython3",
   "version": "3.7.4"
  }
 },
 "nbformat": 4,
 "nbformat_minor": 2
}
